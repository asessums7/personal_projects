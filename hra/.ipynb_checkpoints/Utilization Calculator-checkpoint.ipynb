{
 "cells": [
  {
   "cell_type": "code",
   "execution_count": 48,
   "id": "86404c94",
   "metadata": {},
   "outputs": [],
   "source": [
    "import pandas as pd\n",
    "from simple_salesforce import Salesforce"
   ]
  },
  {
   "cell_type": "code",
   "execution_count": 49,
   "id": "abbae901",
   "metadata": {},
   "outputs": [],
   "source": [
    "username='asessums@hraadvisors.com'\n",
    "password='20!aSnY20eu'\n",
    "isSandbox = 0\n",
    "token ='QcOGSEwtPnHMwK0irDf47Ffmi'\n",
    "instance = 'hraadvisors.lightning.force.com'"
   ]
  },
  {
   "cell_type": "code",
   "execution_count": 50,
   "id": "78f85d1d",
   "metadata": {},
   "outputs": [],
   "source": [
    "sf = Salesforce(username = username, \n",
    "               password = password, \n",
    "               security_token = token, \n",
    "               instance_url = instance)"
   ]
  },
  {
   "cell_type": "code",
   "execution_count": 53,
   "id": "6b53457b",
   "metadata": {},
   "outputs": [],
   "source": [
    "sf.query = ('Select Id, Name from ACCOUNT LIMIT 10')"
   ]
  },
  {
   "cell_type": "code",
   "execution_count": 75,
   "id": "d1ab547d",
   "metadata": {},
   "outputs": [
    {
     "ename": "SyntaxError",
     "evalue": "unexpected EOF while parsing (1511287428.py, line 2)",
     "output_type": "error",
     "traceback": [
      "\u001b[0;36m  File \u001b[0;32m\"/var/folders/tb/8n29tk616h3_0cwcyyfldbfc0000gn/T/ipykernel_2016/1511287428.py\"\u001b[0;36m, line \u001b[0;32m2\u001b[0m\n\u001b[0;31m    print((account_metadata.get('fields'))\u001b[0m\n\u001b[0m                                          ^\u001b[0m\n\u001b[0;31mSyntaxError\u001b[0m\u001b[0;31m:\u001b[0m unexpected EOF while parsing\n"
     ]
    }
   ],
   "source": [
    "account_metadata = account.describe()\n",
    "print((account_metadata.get('fields'))"
   ]
  },
  {
   "cell_type": "code",
   "execution_count": 70,
   "id": "1dff3ce0",
   "metadata": {},
   "outputs": [
    {
     "ename": "SyntaxError",
     "evalue": "invalid syntax (1647669419.py, line 22)",
     "output_type": "error",
     "traceback": [
      "\u001b[0;36m  File \u001b[0;32m\"/var/folders/tb/8n29tk616h3_0cwcyyfldbfc0000gn/T/ipykernel_2016/1647669419.py\"\u001b[0;36m, line \u001b[0;32m22\u001b[0m\n\u001b[0;31m    qry = sf.query_more(qryResult['nextRecordsUrl'], True)\u001b[0m\n\u001b[0m    ^\u001b[0m\n\u001b[0;31mSyntaxError\u001b[0m\u001b[0;31m:\u001b[0m invalid syntax\n"
     ]
    }
   ],
   "source": [
    "def SOQL(SOQL):\n",
    "    qryResult = sf.query(SOQL)\n",
    "    print('Record Count {0}'.format(qryResult['totalSize']))\n",
    "    isDone = qryResult['Done'];\n",
    "    \n",
    "    if isDone == True:\n",
    "        df = DataFrame(qryResult['records'])\n",
    "        \n",
    "    while isDone != True:\n",
    "        try:\n",
    "            if qryResult['done'] != True:\n",
    "                df = df.append(DataFrame(qryResult['records']));\n",
    "                qryResult = sf.query_more(qryResult['nextRecordsUrl'], True)\n",
    "            else:\n",
    "                df = df.append(DataFrame(qryResult['records']))\n",
    "                isDone = True;\n",
    "                print('completed')\n",
    "            break;\n",
    "                \n",
    "        except NameError:\n",
    "            df = DataFrame(qryResult(['records'])\n",
    "            qry = sf.query_more(qryResult['nextRecordsUrl'], True)\n",
    "\n",
    "df = df.drop('attributes', axis = 1)\n",
    "return df;"
   ]
  },
  {
   "cell_type": "code",
   "execution_count": 69,
   "id": "19c79a34",
   "metadata": {},
   "outputs": [
    {
     "ename": "SyntaxError",
     "evalue": "EOL while scanning string literal (1019688939.py, line 1)",
     "output_type": "error",
     "traceback": [
      "\u001b[0;36m  File \u001b[0;32m\"/var/folders/tb/8n29tk616h3_0cwcyyfldbfc0000gn/T/ipykernel_2016/1019688939.py\"\u001b[0;36m, line \u001b[0;32m1\u001b[0m\n\u001b[0;31m    SOQL = 'SELECT Id, Email FROM Contact\u001b[0m\n\u001b[0m                                         ^\u001b[0m\n\u001b[0;31mSyntaxError\u001b[0m\u001b[0;31m:\u001b[0m EOL while scanning string literal\n"
     ]
    }
   ],
   "source": [
    "SOQL = 'SELECT Id, Email FROM Contact"
   ]
  }
 ],
 "metadata": {
  "kernelspec": {
   "display_name": "Python 3 (ipykernel)",
   "language": "python",
   "name": "python3"
  },
  "language_info": {
   "codemirror_mode": {
    "name": "ipython",
    "version": 3
   },
   "file_extension": ".py",
   "mimetype": "text/x-python",
   "name": "python",
   "nbconvert_exporter": "python",
   "pygments_lexer": "ipython3",
   "version": "3.9.7"
  }
 },
 "nbformat": 4,
 "nbformat_minor": 5
}
